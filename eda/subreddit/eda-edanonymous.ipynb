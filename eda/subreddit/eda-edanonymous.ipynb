{
 "cells": [
  {
   "cell_type": "code",
   "execution_count": 1,
   "source": [
    "import pandas as pd\n",
    "import altair as alt\n",
    "\n",
    "alt.data_transformers.enable('data_server')\n",
    "alt.renderers.enable('mimetype')"
   ],
   "outputs": [
    {
     "output_type": "execute_result",
     "data": {
      "text/plain": [
       "RendererRegistry.enable('mimetype')"
      ]
     },
     "metadata": {},
     "execution_count": 1
    }
   ],
   "metadata": {}
  },
  {
   "cell_type": "code",
   "execution_count": 2,
   "source": [
    "edanonymous_pre = pd.read_csv('../../data/edanonymous_pre_features_tfidf_256.csv')\n",
    "edanonymous_post = pd.read_csv('../../data/edanonymous_post_features_tfidf_256.csv')"
   ],
   "outputs": [],
   "metadata": {}
  },
  {
   "cell_type": "code",
<<<<<<< HEAD
<<<<<<< HEAD
   "execution_count": null,
   "source": [],
   "outputs": [],
   "metadata": {}
=======
=======
>>>>>>> c423840 (feat: add analysis and bar plots)
   "execution_count": 3,
   "source": [
    "edanonymous_pre.head()"
   ],
   "outputs": [
    {
     "output_type": "execute_result",
     "data": {
      "text/plain": [
       "     subreddit             author        date  \\\n",
       "0  EDAnonymous     doitliketweety  2019/05/14   \n",
       "1  EDAnonymous  RecoveryForMyself  2019/05/14   \n",
       "2  EDAnonymous       LilTricky420  2019/05/14   \n",
       "3  EDAnonymous        kimchiwitch  2019/05/14   \n",
       "4  EDAnonymous          laisserai  2019/05/14   \n",
       "\n",
       "                                                post  \\\n",
       "0  How to suppress appetite 😫 Do you guys take an...   \n",
       "1  DAE restrict really hard when not counting cal...   \n",
       "2  Skin and Bones by Cage the Elephant That’s it ...   \n",
       "3  Im fucked Pregnant, bf hasnt touched me, needs...   \n",
       "4  Every time my mom yells I find myself seeking ...   \n",
       "\n",
       "   automated_readability_index  coleman_liau_index  \\\n",
       "0                     1.255708            3.918239   \n",
       "1                     2.799608            4.762084   \n",
       "2                    -1.938810           -0.721478   \n",
       "3                     4.844211            3.582493   \n",
       "4                     1.965108            4.254279   \n",
       "\n",
       "   flesch_kincaid_grade_level  flesch_reading_ease  gulpease_index  \\\n",
       "0                    3.246580            83.586097       93.150943   \n",
       "1                    3.984902            86.678725       76.058824   \n",
       "2                   -1.127143           111.455476      116.857143   \n",
       "3                    4.655088            95.528947       69.175439   \n",
       "4                    3.368750            88.447404       80.250000   \n",
       "\n",
       "   gunning_fog_index  ...  tfidf_wish  tfidf_without  tfidf_wonder  \\\n",
       "0           4.159434  ...         0.0            0.0           0.0   \n",
       "1           5.709804  ...         0.0            0.0           0.0   \n",
       "2           1.866667  ...         0.0            0.0           0.0   \n",
       "3           8.301754  ...         0.0            0.0           0.0   \n",
       "4           5.500962  ...         0.0            0.0           0.0   \n",
       "\n",
       "   tfidf_work  tfidf_worri  tfidf_wors  tfidf_would  tfidf_wrong  tfidf_x200b  \\\n",
       "0    0.000000      0.00000         0.0          0.0          0.0          0.0   \n",
       "1    0.000000      0.18457         0.0          0.0          0.0          0.0   \n",
       "2    0.000000      0.00000         0.0          0.0          0.0          0.0   \n",
       "3    0.197726      0.00000         0.0          0.0          0.0          0.0   \n",
       "4    0.000000      0.00000         0.0          0.0          0.0          0.0   \n",
       "\n",
       "   tfidf_year  \n",
       "0         0.0  \n",
       "1         0.0  \n",
       "2         0.0  \n",
       "3         0.0  \n",
       "4         0.0  \n",
       "\n",
       "[5 rows x 350 columns]"
      ],
      "text/html": [
       "<div>\n",
       "<style scoped>\n",
       "    .dataframe tbody tr th:only-of-type {\n",
       "        vertical-align: middle;\n",
       "    }\n",
       "\n",
       "    .dataframe tbody tr th {\n",
       "        vertical-align: top;\n",
       "    }\n",
       "\n",
       "    .dataframe thead th {\n",
       "        text-align: right;\n",
       "    }\n",
       "</style>\n",
       "<table border=\"1\" class=\"dataframe\">\n",
       "  <thead>\n",
       "    <tr style=\"text-align: right;\">\n",
       "      <th></th>\n",
       "      <th>subreddit</th>\n",
       "      <th>author</th>\n",
       "      <th>date</th>\n",
       "      <th>post</th>\n",
       "      <th>automated_readability_index</th>\n",
       "      <th>coleman_liau_index</th>\n",
       "      <th>flesch_kincaid_grade_level</th>\n",
       "      <th>flesch_reading_ease</th>\n",
       "      <th>gulpease_index</th>\n",
       "      <th>gunning_fog_index</th>\n",
       "      <th>...</th>\n",
       "      <th>tfidf_wish</th>\n",
       "      <th>tfidf_without</th>\n",
       "      <th>tfidf_wonder</th>\n",
       "      <th>tfidf_work</th>\n",
       "      <th>tfidf_worri</th>\n",
       "      <th>tfidf_wors</th>\n",
       "      <th>tfidf_would</th>\n",
       "      <th>tfidf_wrong</th>\n",
       "      <th>tfidf_x200b</th>\n",
       "      <th>tfidf_year</th>\n",
       "    </tr>\n",
       "  </thead>\n",
       "  <tbody>\n",
       "    <tr>\n",
       "      <th>0</th>\n",
       "      <td>EDAnonymous</td>\n",
       "      <td>doitliketweety</td>\n",
       "      <td>2019/05/14</td>\n",
       "      <td>How to suppress appetite 😫 Do you guys take an...</td>\n",
       "      <td>1.255708</td>\n",
       "      <td>3.918239</td>\n",
       "      <td>3.246580</td>\n",
       "      <td>83.586097</td>\n",
       "      <td>93.150943</td>\n",
       "      <td>4.159434</td>\n",
       "      <td>...</td>\n",
       "      <td>0.0</td>\n",
       "      <td>0.0</td>\n",
       "      <td>0.0</td>\n",
       "      <td>0.000000</td>\n",
       "      <td>0.00000</td>\n",
       "      <td>0.0</td>\n",
       "      <td>0.0</td>\n",
       "      <td>0.0</td>\n",
       "      <td>0.0</td>\n",
       "      <td>0.0</td>\n",
       "    </tr>\n",
       "    <tr>\n",
       "      <th>1</th>\n",
       "      <td>EDAnonymous</td>\n",
       "      <td>RecoveryForMyself</td>\n",
       "      <td>2019/05/14</td>\n",
       "      <td>DAE restrict really hard when not counting cal...</td>\n",
       "      <td>2.799608</td>\n",
       "      <td>4.762084</td>\n",
       "      <td>3.984902</td>\n",
       "      <td>86.678725</td>\n",
       "      <td>76.058824</td>\n",
       "      <td>5.709804</td>\n",
       "      <td>...</td>\n",
       "      <td>0.0</td>\n",
       "      <td>0.0</td>\n",
       "      <td>0.0</td>\n",
       "      <td>0.000000</td>\n",
       "      <td>0.18457</td>\n",
       "      <td>0.0</td>\n",
       "      <td>0.0</td>\n",
       "      <td>0.0</td>\n",
       "      <td>0.0</td>\n",
       "      <td>0.0</td>\n",
       "    </tr>\n",
       "    <tr>\n",
       "      <th>2</th>\n",
       "      <td>EDAnonymous</td>\n",
       "      <td>LilTricky420</td>\n",
       "      <td>2019/05/14</td>\n",
       "      <td>Skin and Bones by Cage the Elephant That’s it ...</td>\n",
       "      <td>-1.938810</td>\n",
       "      <td>-0.721478</td>\n",
       "      <td>-1.127143</td>\n",
       "      <td>111.455476</td>\n",
       "      <td>116.857143</td>\n",
       "      <td>1.866667</td>\n",
       "      <td>...</td>\n",
       "      <td>0.0</td>\n",
       "      <td>0.0</td>\n",
       "      <td>0.0</td>\n",
       "      <td>0.000000</td>\n",
       "      <td>0.00000</td>\n",
       "      <td>0.0</td>\n",
       "      <td>0.0</td>\n",
       "      <td>0.0</td>\n",
       "      <td>0.0</td>\n",
       "      <td>0.0</td>\n",
       "    </tr>\n",
       "    <tr>\n",
       "      <th>3</th>\n",
       "      <td>EDAnonymous</td>\n",
       "      <td>kimchiwitch</td>\n",
       "      <td>2019/05/14</td>\n",
       "      <td>Im fucked Pregnant, bf hasnt touched me, needs...</td>\n",
       "      <td>4.844211</td>\n",
       "      <td>3.582493</td>\n",
       "      <td>4.655088</td>\n",
       "      <td>95.528947</td>\n",
       "      <td>69.175439</td>\n",
       "      <td>8.301754</td>\n",
       "      <td>...</td>\n",
       "      <td>0.0</td>\n",
       "      <td>0.0</td>\n",
       "      <td>0.0</td>\n",
       "      <td>0.197726</td>\n",
       "      <td>0.00000</td>\n",
       "      <td>0.0</td>\n",
       "      <td>0.0</td>\n",
       "      <td>0.0</td>\n",
       "      <td>0.0</td>\n",
       "      <td>0.0</td>\n",
       "    </tr>\n",
       "    <tr>\n",
       "      <th>4</th>\n",
       "      <td>EDAnonymous</td>\n",
       "      <td>laisserai</td>\n",
       "      <td>2019/05/14</td>\n",
       "      <td>Every time my mom yells I find myself seeking ...</td>\n",
       "      <td>1.965108</td>\n",
       "      <td>4.254279</td>\n",
       "      <td>3.368750</td>\n",
       "      <td>88.447404</td>\n",
       "      <td>80.250000</td>\n",
       "      <td>5.500962</td>\n",
       "      <td>...</td>\n",
       "      <td>0.0</td>\n",
       "      <td>0.0</td>\n",
       "      <td>0.0</td>\n",
       "      <td>0.000000</td>\n",
       "      <td>0.00000</td>\n",
       "      <td>0.0</td>\n",
       "      <td>0.0</td>\n",
       "      <td>0.0</td>\n",
       "      <td>0.0</td>\n",
       "      <td>0.0</td>\n",
       "    </tr>\n",
       "  </tbody>\n",
       "</table>\n",
       "<p>5 rows × 350 columns</p>\n",
       "</div>"
      ]
     },
     "metadata": {},
     "execution_count": 3
    }
   ],
   "metadata": {}
  },
  {
   "cell_type": "markdown",
   "source": [
    "## Features\n",
    "\n",
    "The published paper, from which the dataset is cited, has an in depth breakdown of the features which can be found here: [https://www.jmir.org/2020/10/e22635/](https://www.jmir.org/2020/10/e22635/).  \n",
    "The feature extractions are as follows:\n",
    "- LIWC (n=62);\n",
    "- sentiment analysis (n=4); \n",
    "- basic word and syllable counts (n=8); \n",
    "- punctuation (n=1); \n",
    "- readability metrics (n=9); \n",
    "- term frequency–inverse document frequency (TF-IDF) ngrams (256-1024) to capture words and phrases that characterize specific posts; \n",
    "- manually built lexicons about suicidality (n=1), economic stress (n=1), isolation (n=1), substance use (n=1), domestic stress (n=1), and guns (n=1). \n",
    "\n",
    "*A sidenote on TF-IDF:*  \n",
    "The raw document (posts) has been converted to a matrix of TF-IDF features.\n",
    "In the sklearn library, the TfidfVectorizer is equivalent to sklearn `countvectorizer` followed by `TfidfTransformer` where Tf means term-frequency while tf-idf means term-frequency times inverse document-frequency.  \n",
    "More can be read on [sklearn tfidfTransformer](https://scikit-learn.org/stable/modules/generated/sklearn.feature_extraction.text.TfidfTransformer.html#sklearn.feature_extraction.text.TfidfTransformer) page."
   ],
   "metadata": {}
  },
  {
   "cell_type": "markdown",
   "source": [
    "## High level analysis"
   ],
   "metadata": {}
  },
  {
   "cell_type": "markdown",
   "source": [
    "The question we are asking is *How has the substance use increased over the pandemic?*.   \n",
    "For this project we have selected _one_ feature of interest: `substance_use_total`. In order to accomplish our EDA task for Sunday 21st November, we will have to filter our dataset - and associated EDA tasks - to focus exclusively on this feature."
   ],
   "metadata": {}
  },
  {
   "cell_type": "code",
   "execution_count": 5,
   "source": [
    "columns_of_interest = ['subreddit', 'author', 'date', 'post', 'substance_use_total']\n",
    "\n",
    "edanonymous_pre = edanonymous_pre.loc[:, columns_of_interest]\n",
    "edanonymous_post = edanonymous_post.loc[:, columns_of_interest]"
   ],
   "outputs": [],
   "metadata": {}
  },
  {
   "cell_type": "code",
   "execution_count": 7,
   "source": [
    "edanonymous_pre.head(5)"
   ],
   "outputs": [
    {
     "output_type": "execute_result",
     "data": {
      "text/plain": [
       "     subreddit             author        date  \\\n",
       "0  EDAnonymous     doitliketweety  2019/05/14   \n",
       "1  EDAnonymous  RecoveryForMyself  2019/05/14   \n",
       "2  EDAnonymous       LilTricky420  2019/05/14   \n",
       "3  EDAnonymous        kimchiwitch  2019/05/14   \n",
       "4  EDAnonymous          laisserai  2019/05/14   \n",
       "\n",
       "                                                post  substance_use_total  \n",
       "0  How to suppress appetite 😫 Do you guys take an...                    0  \n",
       "1  DAE restrict really hard when not counting cal...                    0  \n",
       "2  Skin and Bones by Cage the Elephant That’s it ...                    0  \n",
       "3  Im fucked Pregnant, bf hasnt touched me, needs...                    0  \n",
       "4  Every time my mom yells I find myself seeking ...                    1  "
      ],
      "text/html": [
       "<div>\n",
       "<style scoped>\n",
       "    .dataframe tbody tr th:only-of-type {\n",
       "        vertical-align: middle;\n",
       "    }\n",
       "\n",
       "    .dataframe tbody tr th {\n",
       "        vertical-align: top;\n",
       "    }\n",
       "\n",
       "    .dataframe thead th {\n",
       "        text-align: right;\n",
       "    }\n",
       "</style>\n",
       "<table border=\"1\" class=\"dataframe\">\n",
       "  <thead>\n",
       "    <tr style=\"text-align: right;\">\n",
       "      <th></th>\n",
       "      <th>subreddit</th>\n",
       "      <th>author</th>\n",
       "      <th>date</th>\n",
       "      <th>post</th>\n",
       "      <th>substance_use_total</th>\n",
       "    </tr>\n",
       "  </thead>\n",
       "  <tbody>\n",
       "    <tr>\n",
       "      <th>0</th>\n",
       "      <td>EDAnonymous</td>\n",
       "      <td>doitliketweety</td>\n",
       "      <td>2019/05/14</td>\n",
       "      <td>How to suppress appetite 😫 Do you guys take an...</td>\n",
       "      <td>0</td>\n",
       "    </tr>\n",
       "    <tr>\n",
       "      <th>1</th>\n",
       "      <td>EDAnonymous</td>\n",
       "      <td>RecoveryForMyself</td>\n",
       "      <td>2019/05/14</td>\n",
       "      <td>DAE restrict really hard when not counting cal...</td>\n",
       "      <td>0</td>\n",
       "    </tr>\n",
       "    <tr>\n",
       "      <th>2</th>\n",
       "      <td>EDAnonymous</td>\n",
       "      <td>LilTricky420</td>\n",
       "      <td>2019/05/14</td>\n",
       "      <td>Skin and Bones by Cage the Elephant That’s it ...</td>\n",
       "      <td>0</td>\n",
       "    </tr>\n",
       "    <tr>\n",
       "      <th>3</th>\n",
       "      <td>EDAnonymous</td>\n",
       "      <td>kimchiwitch</td>\n",
       "      <td>2019/05/14</td>\n",
       "      <td>Im fucked Pregnant, bf hasnt touched me, needs...</td>\n",
       "      <td>0</td>\n",
       "    </tr>\n",
       "    <tr>\n",
       "      <th>4</th>\n",
       "      <td>EDAnonymous</td>\n",
       "      <td>laisserai</td>\n",
       "      <td>2019/05/14</td>\n",
       "      <td>Every time my mom yells I find myself seeking ...</td>\n",
       "      <td>1</td>\n",
       "    </tr>\n",
       "  </tbody>\n",
       "</table>\n",
       "</div>"
      ]
     },
     "metadata": {},
     "execution_count": 7
    }
   ],
   "metadata": {}
  },
  {
   "cell_type": "code",
   "execution_count": 8,
   "source": [
    "edanonymous_pre.info()"
   ],
   "outputs": [
    {
     "output_type": "stream",
     "name": "stdout",
     "text": [
      "<class 'pandas.core.frame.DataFrame'>\n",
      "RangeIndex: 6947 entries, 0 to 6946\n",
      "Data columns (total 5 columns):\n",
      " #   Column               Non-Null Count  Dtype \n",
      "---  ------               --------------  ----- \n",
      " 0   subreddit            6947 non-null   object\n",
      " 1   author               6947 non-null   object\n",
      " 2   date                 6947 non-null   object\n",
      " 3   post                 6947 non-null   object\n",
      " 4   substance_use_total  6947 non-null   int64 \n",
      "dtypes: int64(1), object(4)\n",
      "memory usage: 271.5+ KB\n"
     ]
    }
   ],
   "metadata": {}
  },
  {
   "cell_type": "markdown",
   "source": [],
   "metadata": {}
  },
  {
   "cell_type": "code",
   "execution_count": 10,
   "source": [
    "edanonymous_post.head(5)"
   ],
   "outputs": [
    {
     "output_type": "execute_result",
     "data": {
      "text/plain": [
       "     subreddit               author        date  \\\n",
       "0  EDAnonymous      undecoverpotato  2020/01/01   \n",
       "1  EDAnonymous            lauryleah  2020/01/01   \n",
       "2  EDAnonymous  isyoursexlifenormal  2020/01/01   \n",
       "3  EDAnonymous           squidman14  2020/01/01   \n",
       "4  EDAnonymous         bailsforreal  2020/01/01   \n",
       "\n",
       "                                                post  substance_use_total  \n",
       "0  I got called fat today and I want to kill myse...                    0  \n",
       "1  there is no way i can stop a binge except fall...                    0  \n",
       "2  Just ED Tingz Me : “look at this it’s the bigg...                    0  \n",
       "3  Survived the holidays (barely) only to be trig...                    0  \n",
       "4  Humiliating So I made a burner twitter to talk...                    0  "
      ],
      "text/html": [
       "<div>\n",
       "<style scoped>\n",
       "    .dataframe tbody tr th:only-of-type {\n",
       "        vertical-align: middle;\n",
       "    }\n",
       "\n",
       "    .dataframe tbody tr th {\n",
       "        vertical-align: top;\n",
       "    }\n",
       "\n",
       "    .dataframe thead th {\n",
       "        text-align: right;\n",
       "    }\n",
       "</style>\n",
       "<table border=\"1\" class=\"dataframe\">\n",
       "  <thead>\n",
       "    <tr style=\"text-align: right;\">\n",
       "      <th></th>\n",
       "      <th>subreddit</th>\n",
       "      <th>author</th>\n",
       "      <th>date</th>\n",
       "      <th>post</th>\n",
       "      <th>substance_use_total</th>\n",
       "    </tr>\n",
       "  </thead>\n",
       "  <tbody>\n",
       "    <tr>\n",
       "      <th>0</th>\n",
       "      <td>EDAnonymous</td>\n",
       "      <td>undecoverpotato</td>\n",
       "      <td>2020/01/01</td>\n",
       "      <td>I got called fat today and I want to kill myse...</td>\n",
       "      <td>0</td>\n",
       "    </tr>\n",
       "    <tr>\n",
       "      <th>1</th>\n",
       "      <td>EDAnonymous</td>\n",
       "      <td>lauryleah</td>\n",
       "      <td>2020/01/01</td>\n",
       "      <td>there is no way i can stop a binge except fall...</td>\n",
       "      <td>0</td>\n",
       "    </tr>\n",
       "    <tr>\n",
       "      <th>2</th>\n",
       "      <td>EDAnonymous</td>\n",
       "      <td>isyoursexlifenormal</td>\n",
       "      <td>2020/01/01</td>\n",
       "      <td>Just ED Tingz Me : “look at this it’s the bigg...</td>\n",
       "      <td>0</td>\n",
       "    </tr>\n",
       "    <tr>\n",
       "      <th>3</th>\n",
       "      <td>EDAnonymous</td>\n",
       "      <td>squidman14</td>\n",
       "      <td>2020/01/01</td>\n",
       "      <td>Survived the holidays (barely) only to be trig...</td>\n",
       "      <td>0</td>\n",
       "    </tr>\n",
       "    <tr>\n",
       "      <th>4</th>\n",
       "      <td>EDAnonymous</td>\n",
       "      <td>bailsforreal</td>\n",
       "      <td>2020/01/01</td>\n",
       "      <td>Humiliating So I made a burner twitter to talk...</td>\n",
       "      <td>0</td>\n",
       "    </tr>\n",
       "  </tbody>\n",
       "</table>\n",
       "</div>"
      ]
     },
     "metadata": {},
     "execution_count": 10
    }
   ],
   "metadata": {}
  },
  {
   "cell_type": "code",
   "execution_count": 11,
   "source": [
    "edanonymous_post.info()"
   ],
   "outputs": [
    {
     "output_type": "stream",
     "name": "stdout",
     "text": [
      "<class 'pandas.core.frame.DataFrame'>\n",
      "RangeIndex: 5042 entries, 0 to 5041\n",
      "Data columns (total 5 columns):\n",
      " #   Column               Non-Null Count  Dtype \n",
      "---  ------               --------------  ----- \n",
      " 0   subreddit            5042 non-null   object\n",
      " 1   author               5042 non-null   object\n",
      " 2   date                 5042 non-null   object\n",
      " 3   post                 5042 non-null   object\n",
      " 4   substance_use_total  5042 non-null   int64 \n",
      "dtypes: int64(1), object(4)\n",
      "memory usage: 197.1+ KB\n"
     ]
    }
   ],
   "metadata": {}
  },
  {
   "cell_type": "markdown",
   "source": [
    "Comparing stats:"
   ],
   "metadata": {}
  },
  {
   "cell_type": "markdown",
   "source": [],
   "metadata": {}
  },
  {
   "cell_type": "code",
   "execution_count": 12,
   "source": [
    "edanonymous_pre.describe()"
   ],
   "outputs": [
    {
     "output_type": "execute_result",
     "data": {
      "text/plain": [
       "       substance_use_total\n",
       "count          6947.000000\n",
       "mean              0.297826\n",
       "std               0.756086\n",
       "min               0.000000\n",
       "25%               0.000000\n",
       "50%               0.000000\n",
       "75%               0.000000\n",
       "max               9.000000"
      ],
      "text/html": [
       "<div>\n",
       "<style scoped>\n",
       "    .dataframe tbody tr th:only-of-type {\n",
       "        vertical-align: middle;\n",
       "    }\n",
       "\n",
       "    .dataframe tbody tr th {\n",
       "        vertical-align: top;\n",
       "    }\n",
       "\n",
       "    .dataframe thead th {\n",
       "        text-align: right;\n",
       "    }\n",
       "</style>\n",
       "<table border=\"1\" class=\"dataframe\">\n",
       "  <thead>\n",
       "    <tr style=\"text-align: right;\">\n",
       "      <th></th>\n",
       "      <th>substance_use_total</th>\n",
       "    </tr>\n",
       "  </thead>\n",
       "  <tbody>\n",
       "    <tr>\n",
       "      <th>count</th>\n",
       "      <td>6947.000000</td>\n",
       "    </tr>\n",
       "    <tr>\n",
       "      <th>mean</th>\n",
       "      <td>0.297826</td>\n",
       "    </tr>\n",
       "    <tr>\n",
       "      <th>std</th>\n",
       "      <td>0.756086</td>\n",
       "    </tr>\n",
       "    <tr>\n",
       "      <th>min</th>\n",
       "      <td>0.000000</td>\n",
       "    </tr>\n",
       "    <tr>\n",
       "      <th>25%</th>\n",
       "      <td>0.000000</td>\n",
       "    </tr>\n",
       "    <tr>\n",
       "      <th>50%</th>\n",
       "      <td>0.000000</td>\n",
       "    </tr>\n",
       "    <tr>\n",
       "      <th>75%</th>\n",
       "      <td>0.000000</td>\n",
       "    </tr>\n",
       "    <tr>\n",
       "      <th>max</th>\n",
       "      <td>9.000000</td>\n",
       "    </tr>\n",
       "  </tbody>\n",
       "</table>\n",
       "</div>"
      ]
     },
     "metadata": {},
     "execution_count": 12
    }
   ],
   "metadata": {}
  },
  {
   "cell_type": "code",
   "execution_count": 14,
   "source": [
    "edanonymous_post.describe()"
   ],
   "outputs": [
    {
     "output_type": "execute_result",
     "data": {
      "text/plain": [
       "       substance_use_total\n",
       "count          5042.000000\n",
       "mean              0.262991\n",
       "std               0.720278\n",
       "min               0.000000\n",
       "25%               0.000000\n",
       "50%               0.000000\n",
       "75%               0.000000\n",
       "max              10.000000"
      ],
      "text/html": [
       "<div>\n",
       "<style scoped>\n",
       "    .dataframe tbody tr th:only-of-type {\n",
       "        vertical-align: middle;\n",
       "    }\n",
       "\n",
       "    .dataframe tbody tr th {\n",
       "        vertical-align: top;\n",
       "    }\n",
       "\n",
       "    .dataframe thead th {\n",
       "        text-align: right;\n",
       "    }\n",
       "</style>\n",
       "<table border=\"1\" class=\"dataframe\">\n",
       "  <thead>\n",
       "    <tr style=\"text-align: right;\">\n",
       "      <th></th>\n",
       "      <th>substance_use_total</th>\n",
       "    </tr>\n",
       "  </thead>\n",
       "  <tbody>\n",
       "    <tr>\n",
       "      <th>count</th>\n",
       "      <td>5042.000000</td>\n",
       "    </tr>\n",
       "    <tr>\n",
       "      <th>mean</th>\n",
       "      <td>0.262991</td>\n",
       "    </tr>\n",
       "    <tr>\n",
       "      <th>std</th>\n",
       "      <td>0.720278</td>\n",
       "    </tr>\n",
       "    <tr>\n",
       "      <th>min</th>\n",
       "      <td>0.000000</td>\n",
       "    </tr>\n",
       "    <tr>\n",
       "      <th>25%</th>\n",
       "      <td>0.000000</td>\n",
       "    </tr>\n",
       "    <tr>\n",
       "      <th>50%</th>\n",
       "      <td>0.000000</td>\n",
       "    </tr>\n",
       "    <tr>\n",
       "      <th>75%</th>\n",
       "      <td>0.000000</td>\n",
       "    </tr>\n",
       "    <tr>\n",
       "      <th>max</th>\n",
       "      <td>10.000000</td>\n",
       "    </tr>\n",
       "  </tbody>\n",
       "</table>\n",
       "</div>"
      ]
     },
     "metadata": {},
     "execution_count": 14
    }
   ],
   "metadata": {}
  },
  {
   "cell_type": "markdown",
   "source": [
    "Combining the pre and post into one dataset with a new feature column allows us to compare the data side by side"
   ],
   "metadata": {}
  },
  {
   "cell_type": "code",
   "execution_count": 17,
   "source": [
    "edanonymous_pre['period'] = 'pre'\n",
    "edanonymous_post['period'] = 'post'\n",
    "\n",
    "edanonymous_df = pd.concat([edanonymous_pre, edanonymous_post])\n",
    "edanonymous_df"
   ],
   "outputs": [
    {
     "output_type": "execute_result",
     "data": {
      "text/plain": [
       "        subreddit                author        date  \\\n",
       "0     EDAnonymous        doitliketweety  2019/05/14   \n",
       "1     EDAnonymous     RecoveryForMyself  2019/05/14   \n",
       "2     EDAnonymous          LilTricky420  2019/05/14   \n",
       "3     EDAnonymous           kimchiwitch  2019/05/14   \n",
       "4     EDAnonymous             laisserai  2019/05/14   \n",
       "...           ...                   ...         ...   \n",
       "5037  EDAnonymous  bigchinnychinchinboy  2020/04/20   \n",
       "5038  EDAnonymous           pawesome-aw  2020/04/20   \n",
       "5039  EDAnonymous         mayneedadrink  2020/04/20   \n",
       "5040  EDAnonymous        burnerphone413  2020/04/20   \n",
       "5041  EDAnonymous    hankoBreadCrumbs89  2020/04/20   \n",
       "\n",
       "                                                   post  substance_use_total  \\\n",
       "0     How to suppress appetite 😫 Do you guys take an...                    0   \n",
       "1     DAE restrict really hard when not counting cal...                    0   \n",
       "2     Skin and Bones by Cage the Elephant That’s it ...                    0   \n",
       "3     Im fucked Pregnant, bf hasnt touched me, needs...                    0   \n",
       "4     Every time my mom yells I find myself seeking ...                    1   \n",
       "...                                                 ...                  ...   \n",
       "5037  Shaming and judging myself, being triggered ov...                    0   \n",
       "5038  I love how if I say “I’m struggling” I get sco...                    0   \n",
       "5039  Beyond my control. What can you do when you ha...                    0   \n",
       "5040  I fucking love greek yogurt I’ve been.. not qu...                    1   \n",
       "5041  Eat, purge, sleep and repeat I’ve been struggl...                    0   \n",
       "\n",
       "     period  \n",
       "0       pre  \n",
       "1       pre  \n",
       "2       pre  \n",
       "3       pre  \n",
       "4       pre  \n",
       "...     ...  \n",
       "5037   post  \n",
       "5038   post  \n",
       "5039   post  \n",
       "5040   post  \n",
       "5041   post  \n",
       "\n",
       "[11989 rows x 6 columns]"
      ],
      "text/html": [
       "<div>\n",
       "<style scoped>\n",
       "    .dataframe tbody tr th:only-of-type {\n",
       "        vertical-align: middle;\n",
       "    }\n",
       "\n",
       "    .dataframe tbody tr th {\n",
       "        vertical-align: top;\n",
       "    }\n",
       "\n",
       "    .dataframe thead th {\n",
       "        text-align: right;\n",
       "    }\n",
       "</style>\n",
       "<table border=\"1\" class=\"dataframe\">\n",
       "  <thead>\n",
       "    <tr style=\"text-align: right;\">\n",
       "      <th></th>\n",
       "      <th>subreddit</th>\n",
       "      <th>author</th>\n",
       "      <th>date</th>\n",
       "      <th>post</th>\n",
       "      <th>substance_use_total</th>\n",
       "      <th>period</th>\n",
       "    </tr>\n",
       "  </thead>\n",
       "  <tbody>\n",
       "    <tr>\n",
       "      <th>0</th>\n",
       "      <td>EDAnonymous</td>\n",
       "      <td>doitliketweety</td>\n",
       "      <td>2019/05/14</td>\n",
       "      <td>How to suppress appetite 😫 Do you guys take an...</td>\n",
       "      <td>0</td>\n",
       "      <td>pre</td>\n",
       "    </tr>\n",
       "    <tr>\n",
       "      <th>1</th>\n",
       "      <td>EDAnonymous</td>\n",
       "      <td>RecoveryForMyself</td>\n",
       "      <td>2019/05/14</td>\n",
       "      <td>DAE restrict really hard when not counting cal...</td>\n",
       "      <td>0</td>\n",
       "      <td>pre</td>\n",
       "    </tr>\n",
       "    <tr>\n",
       "      <th>2</th>\n",
       "      <td>EDAnonymous</td>\n",
       "      <td>LilTricky420</td>\n",
       "      <td>2019/05/14</td>\n",
       "      <td>Skin and Bones by Cage the Elephant That’s it ...</td>\n",
       "      <td>0</td>\n",
       "      <td>pre</td>\n",
       "    </tr>\n",
       "    <tr>\n",
       "      <th>3</th>\n",
       "      <td>EDAnonymous</td>\n",
       "      <td>kimchiwitch</td>\n",
       "      <td>2019/05/14</td>\n",
       "      <td>Im fucked Pregnant, bf hasnt touched me, needs...</td>\n",
       "      <td>0</td>\n",
       "      <td>pre</td>\n",
       "    </tr>\n",
       "    <tr>\n",
       "      <th>4</th>\n",
       "      <td>EDAnonymous</td>\n",
       "      <td>laisserai</td>\n",
       "      <td>2019/05/14</td>\n",
       "      <td>Every time my mom yells I find myself seeking ...</td>\n",
       "      <td>1</td>\n",
       "      <td>pre</td>\n",
       "    </tr>\n",
       "    <tr>\n",
       "      <th>...</th>\n",
       "      <td>...</td>\n",
       "      <td>...</td>\n",
       "      <td>...</td>\n",
       "      <td>...</td>\n",
       "      <td>...</td>\n",
       "      <td>...</td>\n",
       "    </tr>\n",
       "    <tr>\n",
       "      <th>5037</th>\n",
       "      <td>EDAnonymous</td>\n",
       "      <td>bigchinnychinchinboy</td>\n",
       "      <td>2020/04/20</td>\n",
       "      <td>Shaming and judging myself, being triggered ov...</td>\n",
       "      <td>0</td>\n",
       "      <td>post</td>\n",
       "    </tr>\n",
       "    <tr>\n",
       "      <th>5038</th>\n",
       "      <td>EDAnonymous</td>\n",
       "      <td>pawesome-aw</td>\n",
       "      <td>2020/04/20</td>\n",
       "      <td>I love how if I say “I’m struggling” I get sco...</td>\n",
       "      <td>0</td>\n",
       "      <td>post</td>\n",
       "    </tr>\n",
       "    <tr>\n",
       "      <th>5039</th>\n",
       "      <td>EDAnonymous</td>\n",
       "      <td>mayneedadrink</td>\n",
       "      <td>2020/04/20</td>\n",
       "      <td>Beyond my control. What can you do when you ha...</td>\n",
       "      <td>0</td>\n",
       "      <td>post</td>\n",
       "    </tr>\n",
       "    <tr>\n",
       "      <th>5040</th>\n",
       "      <td>EDAnonymous</td>\n",
       "      <td>burnerphone413</td>\n",
       "      <td>2020/04/20</td>\n",
       "      <td>I fucking love greek yogurt I’ve been.. not qu...</td>\n",
       "      <td>1</td>\n",
       "      <td>post</td>\n",
       "    </tr>\n",
       "    <tr>\n",
       "      <th>5041</th>\n",
       "      <td>EDAnonymous</td>\n",
       "      <td>hankoBreadCrumbs89</td>\n",
       "      <td>2020/04/20</td>\n",
       "      <td>Eat, purge, sleep and repeat I’ve been struggl...</td>\n",
       "      <td>0</td>\n",
       "      <td>post</td>\n",
       "    </tr>\n",
       "  </tbody>\n",
       "</table>\n",
       "<p>11989 rows × 6 columns</p>\n",
       "</div>"
      ]
     },
     "metadata": {},
     "execution_count": 17
    }
   ],
   "metadata": {}
  },
  {
   "cell_type": "code",
   "execution_count": 18,
   "source": [
    "alt.Chart(edanonymous_df).mark_bar(opacity=0.8).encode(\n",
    "    x=alt.X('substance_use_total', bin=alt.Bin(maxbins=30)),\n",
    "    y='count()',\n",
    "    color='period'\n",
    ")"
   ],
   "outputs": [
    {
     "output_type": "execute_result",
     "data": {
      "text/plain": [
       "<VegaLite 4 object>\n",
       "\n",
       "If you see this message, it means the renderer has not been properly enabled\n",
       "for the frontend that you are using. For more information, see\n",
       "https://altair-viz.github.io/user_guide/troubleshooting.html\n"
      ],
      "application/vnd.vegalite.v4+json": {
       "config": {
        "view": {
         "continuousWidth": 400,
         "continuousHeight": 300
        }
       },
       "data": {
        "url": "http://localhost:23386/92cd16fb57a9cdb435ea97d409b94187.json"
       },
       "mark": {
        "type": "bar",
        "opacity": 0.8
       },
       "encoding": {
        "color": {
         "type": "nominal",
         "field": "period"
        },
        "x": {
         "type": "quantitative",
         "bin": {
          "maxbins": 30
         },
         "field": "substance_use_total"
        },
        "y": {
         "type": "quantitative",
         "aggregate": "count"
        }
       },
       "$schema": "https://vega.github.io/schema/vega-lite/v4.8.1.json"
      }
     },
     "metadata": {},
     "execution_count": 18
    }
   ],
   "metadata": {}
  },
  {
   "cell_type": "code",
   "execution_count": 21,
   "source": [
    "plot = alt.Chart(edanonymous_df).mark_bar().encode(\n",
    "    x='mean(substance_use_total)',\n",
    "    y='period',\n",
    "    color='period'\n",
    ")\n",
    "\n",
    "err_bars = alt.Chart(edanonymous_df).mark_errorbar(extent='ci', rule=alt.LineConfig(size=2)).encode(\n",
    "    x='substance_use_total',\n",
    "    y='period')\n",
    "\n",
    "plot + err_bars"
   ],
   "outputs": [
    {
     "output_type": "execute_result",
     "data": {
      "text/plain": [
       "<VegaLite 4 object>\n",
       "\n",
       "If you see this message, it means the renderer has not been properly enabled\n",
       "for the frontend that you are using. For more information, see\n",
       "https://altair-viz.github.io/user_guide/troubleshooting.html\n"
      ],
      "application/vnd.vegalite.v4+json": {
       "config": {
        "view": {
         "continuousWidth": 400,
         "continuousHeight": 300
        }
       },
       "layer": [
        {
         "mark": "bar",
         "encoding": {
          "color": {
           "type": "nominal",
           "field": "period"
          },
          "x": {
           "type": "quantitative",
           "aggregate": "mean",
           "field": "substance_use_total"
          },
          "y": {
           "type": "nominal",
           "field": "period"
          }
         }
        },
        {
         "mark": {
          "type": "errorbar",
          "extent": "ci",
          "rule": {
           "size": 2
          }
         },
         "encoding": {
          "x": {
           "type": "quantitative",
           "field": "substance_use_total"
          },
          "y": {
           "type": "nominal",
           "field": "period"
          }
         }
        }
       ],
       "data": {
        "url": "http://localhost:23386/92cd16fb57a9cdb435ea97d409b94187.json"
       },
       "$schema": "https://vega.github.io/schema/vega-lite/v4.8.1.json"
      }
     },
     "metadata": {},
     "execution_count": 21
    }
   ],
   "metadata": {}
  },
  {
   "cell_type": "code",
   "execution_count": 22,
   "source": [
    "print(f\"Number of unique authors (posters) in 'pre' dataset: {len(edanonymous_pre.author.unique())}\")\n",
    "print(f\"Number of unique authors (posters) in 'post' dataset: {len(edanonymous_post.author.unique())}\")"
   ],
   "outputs": [
    {
     "output_type": "stream",
     "name": "stdout",
     "text": [
      "Number of unique authors (posters) in 'pre' dataset: 6947\n",
      "Number of unique authors (posters) in 'post' dataset: 5042\n"
     ]
    }
   ],
   "metadata": {}
  },
  {
   "cell_type": "markdown",
   "source": [
    "We have a roughly balanced data set of users posting before and after the pandemic.   \n",
    "We see that the mean of `substance_use_total` was greater before the pandemic rather than after."
   ],
   "metadata": {}
  },
  {
   "cell_type": "markdown",
   "source": [],
   "metadata": {}
<<<<<<< HEAD
>>>>>>> c423840 (feat: add analysis and bar plots)
=======
>>>>>>> c423840 (feat: add analysis and bar plots)
  }
 ],
 "metadata": {
  "orig_nbformat": 4,
  "language_info": {
   "name": "python",
   "version": "3.9.7",
   "mimetype": "text/x-python",
   "codemirror_mode": {
    "name": "ipython",
    "version": 3
   },
   "pygments_lexer": "ipython3",
   "nbconvert_exporter": "python",
   "file_extension": ".py"
  },
  "kernelspec": {
   "name": "python3",
   "display_name": "Python 3.9.7 64-bit ('531': conda)"
  },
  "interpreter": {
   "hash": "d58e44e1ac3db679dc3c8bc09e7a88cdeaa25d09dab3c31aa8dfd4f8ba39f865"
  }
 },
 "nbformat": 4,
 "nbformat_minor": 2
}