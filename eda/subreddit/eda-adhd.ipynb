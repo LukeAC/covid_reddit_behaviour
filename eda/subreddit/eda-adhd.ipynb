{
 "cells": [
  {
   "cell_type": "code",
   "execution_count": 1,
   "source": [
    "import pandas as pd\n",
    "import altair as alt\n",
    "\n",
    "alt.data_transformers.enable('data_server')\n",
    "alt.renderers.enable('mimetype')"
   ],
   "outputs": [
    {
     "output_type": "execute_result",
     "data": {
      "text/plain": [
       "RendererRegistry.enable('mimetype')"
      ]
     },
     "metadata": {},
     "execution_count": 1
    }
   ],
   "metadata": {}
  },
  {
   "cell_type": "code",
   "execution_count": 2,
   "source": [
    "adhd_pre = pd.read_csv('../../data/adhd_pre_features_tfidf_256.csv')\n",
    "adhd_post = pd.read_csv('../../data/adhd_post_features_tfidf_256.csv')"
   ],
   "outputs": [],
   "metadata": {}
  },
  {
   "cell_type": "code",
   "execution_count": 3,
   "source": [
    "adhd_pre.head()"
   ],
   "outputs": [
    {
     "output_type": "execute_result",
     "data": {
      "text/plain": [
       "  subreddit            author        date  \\\n",
       "0      adhd           S-Kay21  2019/01/18   \n",
       "1      adhd          lismox42  2019/01/18   \n",
       "2      adhd  reddit_noob_1234  2019/01/18   \n",
       "3      adhd        JITTERdUdE  2019/01/18   \n",
       "4      adhd  buddingaddiction  2019/01/18   \n",
       "\n",
       "                                                post  \\\n",
       "0  How much further ahead could I have been by no...   \n",
       "1  ADHD &amp; Bipolar Anyone else have Bipolar Di...   \n",
       "2  My relationship is falling apart and I don’t k...   \n",
       "3  To those struggling to write papers- drink cof...   \n",
       "4  Meds didn't cure chronic laziness But I can fo...   \n",
       "\n",
       "   automated_readability_index  coleman_liau_index  \\\n",
       "0                     8.459177            7.726622   \n",
       "1                     5.956429            9.791686   \n",
       "2                     8.665417            7.066678   \n",
       "3                     5.527654            6.429964   \n",
       "4                     5.382632            8.627205   \n",
       "\n",
       "   flesch_kincaid_grade_level  flesch_reading_ease  gulpease_index  \\\n",
       "0                    8.311028            70.522575       61.675635   \n",
       "1                    7.368571            54.701429       81.142857   \n",
       "2                    9.323750            66.212917       61.812500   \n",
       "3                    5.696265            81.254138       67.643411   \n",
       "4                    6.746579            63.613553       73.736842   \n",
       "\n",
       "   gunning_fog_index  ...  tfidf_wish  tfidf_without  tfidf_wonder  \\\n",
       "0          11.637404  ...         0.0            0.0           0.0   \n",
       "1           8.514286  ...         0.0            0.0           0.0   \n",
       "2          12.283333  ...         0.0            0.0           0.0   \n",
       "3           8.086092  ...         0.0            0.0           0.0   \n",
       "4          10.115789  ...         0.0            0.0           0.0   \n",
       "\n",
       "   tfidf_work  tfidf_worri  tfidf_wors  tfidf_would  tfidf_wrong  tfidf_x200b  \\\n",
       "0    0.000000          0.0    0.000000     0.125537          0.0          0.0   \n",
       "1    0.000000          0.0    0.000000     0.000000          0.0          0.0   \n",
       "2    0.173326          0.0    0.000000     0.000000          0.0          0.0   \n",
       "3    0.212811          0.0    0.099299     0.000000          0.0          0.0   \n",
       "4    0.000000          0.0    0.000000     0.000000          0.0          0.0   \n",
       "\n",
       "   tfidf_year  \n",
       "0    0.113802  \n",
       "1    0.000000  \n",
       "2    0.000000  \n",
       "3    0.000000  \n",
       "4    0.000000  \n",
       "\n",
       "[5 rows x 350 columns]"
      ],
      "text/html": [
       "<div>\n",
       "<style scoped>\n",
       "    .dataframe tbody tr th:only-of-type {\n",
       "        vertical-align: middle;\n",
       "    }\n",
       "\n",
       "    .dataframe tbody tr th {\n",
       "        vertical-align: top;\n",
       "    }\n",
       "\n",
       "    .dataframe thead th {\n",
       "        text-align: right;\n",
       "    }\n",
       "</style>\n",
       "<table border=\"1\" class=\"dataframe\">\n",
       "  <thead>\n",
       "    <tr style=\"text-align: right;\">\n",
       "      <th></th>\n",
       "      <th>subreddit</th>\n",
       "      <th>author</th>\n",
       "      <th>date</th>\n",
       "      <th>post</th>\n",
       "      <th>automated_readability_index</th>\n",
       "      <th>coleman_liau_index</th>\n",
       "      <th>flesch_kincaid_grade_level</th>\n",
       "      <th>flesch_reading_ease</th>\n",
       "      <th>gulpease_index</th>\n",
       "      <th>gunning_fog_index</th>\n",
       "      <th>...</th>\n",
       "      <th>tfidf_wish</th>\n",
       "      <th>tfidf_without</th>\n",
       "      <th>tfidf_wonder</th>\n",
       "      <th>tfidf_work</th>\n",
       "      <th>tfidf_worri</th>\n",
       "      <th>tfidf_wors</th>\n",
       "      <th>tfidf_would</th>\n",
       "      <th>tfidf_wrong</th>\n",
       "      <th>tfidf_x200b</th>\n",
       "      <th>tfidf_year</th>\n",
       "    </tr>\n",
       "  </thead>\n",
       "  <tbody>\n",
       "    <tr>\n",
       "      <th>0</th>\n",
       "      <td>adhd</td>\n",
       "      <td>S-Kay21</td>\n",
       "      <td>2019/01/18</td>\n",
       "      <td>How much further ahead could I have been by no...</td>\n",
       "      <td>8.459177</td>\n",
       "      <td>7.726622</td>\n",
       "      <td>8.311028</td>\n",
       "      <td>70.522575</td>\n",
       "      <td>61.675635</td>\n",
       "      <td>11.637404</td>\n",
       "      <td>...</td>\n",
       "      <td>0.0</td>\n",
       "      <td>0.0</td>\n",
       "      <td>0.0</td>\n",
       "      <td>0.000000</td>\n",
       "      <td>0.0</td>\n",
       "      <td>0.000000</td>\n",
       "      <td>0.125537</td>\n",
       "      <td>0.0</td>\n",
       "      <td>0.0</td>\n",
       "      <td>0.113802</td>\n",
       "    </tr>\n",
       "    <tr>\n",
       "      <th>1</th>\n",
       "      <td>adhd</td>\n",
       "      <td>lismox42</td>\n",
       "      <td>2019/01/18</td>\n",
       "      <td>ADHD &amp;amp; Bipolar Anyone else have Bipolar Di...</td>\n",
       "      <td>5.956429</td>\n",
       "      <td>9.791686</td>\n",
       "      <td>7.368571</td>\n",
       "      <td>54.701429</td>\n",
       "      <td>81.142857</td>\n",
       "      <td>8.514286</td>\n",
       "      <td>...</td>\n",
       "      <td>0.0</td>\n",
       "      <td>0.0</td>\n",
       "      <td>0.0</td>\n",
       "      <td>0.000000</td>\n",
       "      <td>0.0</td>\n",
       "      <td>0.000000</td>\n",
       "      <td>0.000000</td>\n",
       "      <td>0.0</td>\n",
       "      <td>0.0</td>\n",
       "      <td>0.000000</td>\n",
       "    </tr>\n",
       "    <tr>\n",
       "      <th>2</th>\n",
       "      <td>adhd</td>\n",
       "      <td>reddit_noob_1234</td>\n",
       "      <td>2019/01/18</td>\n",
       "      <td>My relationship is falling apart and I don’t k...</td>\n",
       "      <td>8.665417</td>\n",
       "      <td>7.066678</td>\n",
       "      <td>9.323750</td>\n",
       "      <td>66.212917</td>\n",
       "      <td>61.812500</td>\n",
       "      <td>12.283333</td>\n",
       "      <td>...</td>\n",
       "      <td>0.0</td>\n",
       "      <td>0.0</td>\n",
       "      <td>0.0</td>\n",
       "      <td>0.173326</td>\n",
       "      <td>0.0</td>\n",
       "      <td>0.000000</td>\n",
       "      <td>0.000000</td>\n",
       "      <td>0.0</td>\n",
       "      <td>0.0</td>\n",
       "      <td>0.000000</td>\n",
       "    </tr>\n",
       "    <tr>\n",
       "      <th>3</th>\n",
       "      <td>adhd</td>\n",
       "      <td>JITTERdUdE</td>\n",
       "      <td>2019/01/18</td>\n",
       "      <td>To those struggling to write papers- drink cof...</td>\n",
       "      <td>5.527654</td>\n",
       "      <td>6.429964</td>\n",
       "      <td>5.696265</td>\n",
       "      <td>81.254138</td>\n",
       "      <td>67.643411</td>\n",
       "      <td>8.086092</td>\n",
       "      <td>...</td>\n",
       "      <td>0.0</td>\n",
       "      <td>0.0</td>\n",
       "      <td>0.0</td>\n",
       "      <td>0.212811</td>\n",
       "      <td>0.0</td>\n",
       "      <td>0.099299</td>\n",
       "      <td>0.000000</td>\n",
       "      <td>0.0</td>\n",
       "      <td>0.0</td>\n",
       "      <td>0.000000</td>\n",
       "    </tr>\n",
       "    <tr>\n",
       "      <th>4</th>\n",
       "      <td>adhd</td>\n",
       "      <td>buddingaddiction</td>\n",
       "      <td>2019/01/18</td>\n",
       "      <td>Meds didn't cure chronic laziness But I can fo...</td>\n",
       "      <td>5.382632</td>\n",
       "      <td>8.627205</td>\n",
       "      <td>6.746579</td>\n",
       "      <td>63.613553</td>\n",
       "      <td>73.736842</td>\n",
       "      <td>10.115789</td>\n",
       "      <td>...</td>\n",
       "      <td>0.0</td>\n",
       "      <td>0.0</td>\n",
       "      <td>0.0</td>\n",
       "      <td>0.000000</td>\n",
       "      <td>0.0</td>\n",
       "      <td>0.000000</td>\n",
       "      <td>0.000000</td>\n",
       "      <td>0.0</td>\n",
       "      <td>0.0</td>\n",
       "      <td>0.000000</td>\n",
       "    </tr>\n",
       "  </tbody>\n",
       "</table>\n",
       "<p>5 rows × 350 columns</p>\n",
       "</div>"
      ]
     },
     "metadata": {},
     "execution_count": 3
    }
   ],
   "metadata": {}
  },
  {
   "cell_type": "code",
   "execution_count": 4,
   "source": [
    "columns_of_interest = ['subreddit', 'author', 'date', 'post', 'substance_use_total']\n",
    "\n",
    "adhd_pre = adhd_pre.loc[:, columns_of_interest]\n",
    "adhd_post = adhd_post.loc[:, columns_of_interest]"
   ],
   "outputs": [],
   "metadata": {}
  },
  {
   "cell_type": "code",
   "execution_count": 5,
   "source": [
    "adhd_pre.head(5)"
   ],
   "outputs": [
    {
     "output_type": "execute_result",
     "data": {
      "text/plain": [
       "  subreddit            author        date  \\\n",
       "0      adhd           S-Kay21  2019/01/18   \n",
       "1      adhd          lismox42  2019/01/18   \n",
       "2      adhd  reddit_noob_1234  2019/01/18   \n",
       "3      adhd        JITTERdUdE  2019/01/18   \n",
       "4      adhd  buddingaddiction  2019/01/18   \n",
       "\n",
       "                                                post  substance_use_total  \n",
       "0  How much further ahead could I have been by no...                    3  \n",
       "1  ADHD &amp; Bipolar Anyone else have Bipolar Di...                    0  \n",
       "2  My relationship is falling apart and I don’t k...                    0  \n",
       "3  To those struggling to write papers- drink cof...                    2  \n",
       "4  Meds didn't cure chronic laziness But I can fo...                    1  "
      ],
      "text/html": [
       "<div>\n",
       "<style scoped>\n",
       "    .dataframe tbody tr th:only-of-type {\n",
       "        vertical-align: middle;\n",
       "    }\n",
       "\n",
       "    .dataframe tbody tr th {\n",
       "        vertical-align: top;\n",
       "    }\n",
       "\n",
       "    .dataframe thead th {\n",
       "        text-align: right;\n",
       "    }\n",
       "</style>\n",
       "<table border=\"1\" class=\"dataframe\">\n",
       "  <thead>\n",
       "    <tr style=\"text-align: right;\">\n",
       "      <th></th>\n",
       "      <th>subreddit</th>\n",
       "      <th>author</th>\n",
       "      <th>date</th>\n",
       "      <th>post</th>\n",
       "      <th>substance_use_total</th>\n",
       "    </tr>\n",
       "  </thead>\n",
       "  <tbody>\n",
       "    <tr>\n",
       "      <th>0</th>\n",
       "      <td>adhd</td>\n",
       "      <td>S-Kay21</td>\n",
       "      <td>2019/01/18</td>\n",
       "      <td>How much further ahead could I have been by no...</td>\n",
       "      <td>3</td>\n",
       "    </tr>\n",
       "    <tr>\n",
       "      <th>1</th>\n",
       "      <td>adhd</td>\n",
       "      <td>lismox42</td>\n",
       "      <td>2019/01/18</td>\n",
       "      <td>ADHD &amp;amp; Bipolar Anyone else have Bipolar Di...</td>\n",
       "      <td>0</td>\n",
       "    </tr>\n",
       "    <tr>\n",
       "      <th>2</th>\n",
       "      <td>adhd</td>\n",
       "      <td>reddit_noob_1234</td>\n",
       "      <td>2019/01/18</td>\n",
       "      <td>My relationship is falling apart and I don’t k...</td>\n",
       "      <td>0</td>\n",
       "    </tr>\n",
       "    <tr>\n",
       "      <th>3</th>\n",
       "      <td>adhd</td>\n",
       "      <td>JITTERdUdE</td>\n",
       "      <td>2019/01/18</td>\n",
       "      <td>To those struggling to write papers- drink cof...</td>\n",
       "      <td>2</td>\n",
       "    </tr>\n",
       "    <tr>\n",
       "      <th>4</th>\n",
       "      <td>adhd</td>\n",
       "      <td>buddingaddiction</td>\n",
       "      <td>2019/01/18</td>\n",
       "      <td>Meds didn't cure chronic laziness But I can fo...</td>\n",
       "      <td>1</td>\n",
       "    </tr>\n",
       "  </tbody>\n",
       "</table>\n",
       "</div>"
      ]
     },
     "metadata": {},
     "execution_count": 5
    }
   ],
   "metadata": {}
  },
  {
   "cell_type": "code",
   "execution_count": 7,
   "source": [
    "adhd_pre.info()"
   ],
   "outputs": [
    {
     "output_type": "stream",
     "name": "stdout",
     "text": [
      "<class 'pandas.core.frame.DataFrame'>\n",
      "RangeIndex: 16696 entries, 0 to 16695\n",
      "Data columns (total 5 columns):\n",
      " #   Column               Non-Null Count  Dtype \n",
      "---  ------               --------------  ----- \n",
      " 0   subreddit            16696 non-null  object\n",
      " 1   author               16696 non-null  object\n",
      " 2   date                 16696 non-null  object\n",
      " 3   post                 16696 non-null  object\n",
      " 4   substance_use_total  16696 non-null  int64 \n",
      "dtypes: int64(1), object(4)\n",
      "memory usage: 652.3+ KB\n"
     ]
    }
   ],
   "metadata": {}
  },
  {
   "cell_type": "code",
   "execution_count": 8,
   "source": [
    "adhd_post.head(5)"
   ],
   "outputs": [
    {
     "output_type": "execute_result",
     "data": {
      "text/plain": [
       "  subreddit                author        date  \\\n",
       "0      adhd  bcefghijklmnopsvwxyz  2020/01/01   \n",
       "1      adhd         juicyaznbooty  2020/01/01   \n",
       "2      adhd           tercelkisor  2020/01/01   \n",
       "3      adhd               mikhela  2020/01/01   \n",
       "4      adhd         DoggieDesert6  2020/01/01   \n",
       "\n",
       "                                                post  substance_use_total  \n",
       "0  ADHD gets worse at night High school senior he...                    0  \n",
       "1  The First Step of a multi-step task Perhaps yo...                    0  \n",
       "2  I have been carrying around Play-Doh for years...                    1  \n",
       "3  How do you keep from getting bored in a relati...                    0  \n",
       "4  I need entertain Hello I used to play games li...                    0  "
      ],
      "text/html": [
       "<div>\n",
       "<style scoped>\n",
       "    .dataframe tbody tr th:only-of-type {\n",
       "        vertical-align: middle;\n",
       "    }\n",
       "\n",
       "    .dataframe tbody tr th {\n",
       "        vertical-align: top;\n",
       "    }\n",
       "\n",
       "    .dataframe thead th {\n",
       "        text-align: right;\n",
       "    }\n",
       "</style>\n",
       "<table border=\"1\" class=\"dataframe\">\n",
       "  <thead>\n",
       "    <tr style=\"text-align: right;\">\n",
       "      <th></th>\n",
       "      <th>subreddit</th>\n",
       "      <th>author</th>\n",
       "      <th>date</th>\n",
       "      <th>post</th>\n",
       "      <th>substance_use_total</th>\n",
       "    </tr>\n",
       "  </thead>\n",
       "  <tbody>\n",
       "    <tr>\n",
       "      <th>0</th>\n",
       "      <td>adhd</td>\n",
       "      <td>bcefghijklmnopsvwxyz</td>\n",
       "      <td>2020/01/01</td>\n",
       "      <td>ADHD gets worse at night High school senior he...</td>\n",
       "      <td>0</td>\n",
       "    </tr>\n",
       "    <tr>\n",
       "      <th>1</th>\n",
       "      <td>adhd</td>\n",
       "      <td>juicyaznbooty</td>\n",
       "      <td>2020/01/01</td>\n",
       "      <td>The First Step of a multi-step task Perhaps yo...</td>\n",
       "      <td>0</td>\n",
       "    </tr>\n",
       "    <tr>\n",
       "      <th>2</th>\n",
       "      <td>adhd</td>\n",
       "      <td>tercelkisor</td>\n",
       "      <td>2020/01/01</td>\n",
       "      <td>I have been carrying around Play-Doh for years...</td>\n",
       "      <td>1</td>\n",
       "    </tr>\n",
       "    <tr>\n",
       "      <th>3</th>\n",
       "      <td>adhd</td>\n",
       "      <td>mikhela</td>\n",
       "      <td>2020/01/01</td>\n",
       "      <td>How do you keep from getting bored in a relati...</td>\n",
       "      <td>0</td>\n",
       "    </tr>\n",
       "    <tr>\n",
       "      <th>4</th>\n",
       "      <td>adhd</td>\n",
       "      <td>DoggieDesert6</td>\n",
       "      <td>2020/01/01</td>\n",
       "      <td>I need entertain Hello I used to play games li...</td>\n",
       "      <td>0</td>\n",
       "    </tr>\n",
       "  </tbody>\n",
       "</table>\n",
       "</div>"
      ]
     },
     "metadata": {},
     "execution_count": 8
    }
   ],
   "metadata": {}
  },
  {
   "cell_type": "code",
   "execution_count": 9,
   "source": [
    "adhd_post.info()"
   ],
   "outputs": [
    {
     "output_type": "stream",
     "name": "stdout",
     "text": [
      "<class 'pandas.core.frame.DataFrame'>\n",
      "RangeIndex: 13602 entries, 0 to 13601\n",
      "Data columns (total 5 columns):\n",
      " #   Column               Non-Null Count  Dtype \n",
      "---  ------               --------------  ----- \n",
      " 0   subreddit            13602 non-null  object\n",
      " 1   author               13602 non-null  object\n",
      " 2   date                 13602 non-null  object\n",
      " 3   post                 13602 non-null  object\n",
      " 4   substance_use_total  13602 non-null  int64 \n",
      "dtypes: int64(1), object(4)\n",
      "memory usage: 531.5+ KB\n"
     ]
    }
   ],
   "metadata": {}
  },
  {
   "cell_type": "code",
   "execution_count": 10,
   "source": [
    "adhd_pre.describe()"
   ],
   "outputs": [
    {
     "output_type": "error",
     "ename": "NameError",
     "evalue": "name 'adhd' is not defined",
     "traceback": [
      "\u001b[0;31m---------------------------------------------------------------------------\u001b[0m",
      "\u001b[0;31mNameError\u001b[0m                                 Traceback (most recent call last)",
      "\u001b[0;32m/var/folders/b7/8wj0fr810kjgnj0xgyf1mcgw0000gn/T/ipykernel_23590/4107905169.py\u001b[0m in \u001b[0;36m<module>\u001b[0;34m\u001b[0m\n\u001b[0;32m----> 1\u001b[0;31m \u001b[0madhd\u001b[0m\u001b[0;34m.\u001b[0m\u001b[0mdescribe\u001b[0m\u001b[0;34m(\u001b[0m\u001b[0;34m)\u001b[0m\u001b[0;34m\u001b[0m\u001b[0;34m\u001b[0m\u001b[0m\n\u001b[0m",
      "\u001b[0;31mNameError\u001b[0m: name 'adhd' is not defined"
     ]
    }
   ],
   "metadata": {}
  },
  {
   "cell_type": "code",
   "execution_count": 11,
   "source": [
    "adhd_post.describe()"
   ],
   "outputs": [
    {
     "output_type": "execute_result",
     "data": {
      "text/plain": [
       "       substance_use_total\n",
       "count         13602.000000\n",
       "mean              0.499706\n",
       "std               1.022592\n",
       "min               0.000000\n",
       "25%               0.000000\n",
       "50%               0.000000\n",
       "75%               1.000000\n",
       "max              24.000000"
      ],
      "text/html": [
       "<div>\n",
       "<style scoped>\n",
       "    .dataframe tbody tr th:only-of-type {\n",
       "        vertical-align: middle;\n",
       "    }\n",
       "\n",
       "    .dataframe tbody tr th {\n",
       "        vertical-align: top;\n",
       "    }\n",
       "\n",
       "    .dataframe thead th {\n",
       "        text-align: right;\n",
       "    }\n",
       "</style>\n",
       "<table border=\"1\" class=\"dataframe\">\n",
       "  <thead>\n",
       "    <tr style=\"text-align: right;\">\n",
       "      <th></th>\n",
       "      <th>substance_use_total</th>\n",
       "    </tr>\n",
       "  </thead>\n",
       "  <tbody>\n",
       "    <tr>\n",
       "      <th>count</th>\n",
       "      <td>13602.000000</td>\n",
       "    </tr>\n",
       "    <tr>\n",
       "      <th>mean</th>\n",
       "      <td>0.499706</td>\n",
       "    </tr>\n",
       "    <tr>\n",
       "      <th>std</th>\n",
       "      <td>1.022592</td>\n",
       "    </tr>\n",
       "    <tr>\n",
       "      <th>min</th>\n",
       "      <td>0.000000</td>\n",
       "    </tr>\n",
       "    <tr>\n",
       "      <th>25%</th>\n",
       "      <td>0.000000</td>\n",
       "    </tr>\n",
       "    <tr>\n",
       "      <th>50%</th>\n",
       "      <td>0.000000</td>\n",
       "    </tr>\n",
       "    <tr>\n",
       "      <th>75%</th>\n",
       "      <td>1.000000</td>\n",
       "    </tr>\n",
       "    <tr>\n",
       "      <th>max</th>\n",
       "      <td>24.000000</td>\n",
       "    </tr>\n",
       "  </tbody>\n",
       "</table>\n",
       "</div>"
      ]
     },
     "metadata": {},
     "execution_count": 11
    }
   ],
   "metadata": {}
  },
  {
   "cell_type": "code",
   "execution_count": 12,
   "source": [
    "adhd_pre['period'] = 'pre'\n",
    "adhd_post['period'] = 'post'\n",
    "\n",
    "adhd_df = pd.concat([adhd_pre, adhd_post])\n",
    "adhd_df"
   ],
   "outputs": [
    {
     "output_type": "execute_result",
     "data": {
      "text/plain": [
       "      subreddit             author        date  \\\n",
       "0          adhd            S-Kay21  2019/01/18   \n",
       "1          adhd           lismox42  2019/01/18   \n",
       "2          adhd   reddit_noob_1234  2019/01/18   \n",
       "3          adhd         JITTERdUdE  2019/01/18   \n",
       "4          adhd   buddingaddiction  2019/01/18   \n",
       "...         ...                ...         ...   \n",
       "13597      adhd    yoitsupperlefty  2020/04/20   \n",
       "13598      adhd        chaoslord13  2020/04/20   \n",
       "13599      adhd         Adhelpmeee  2020/04/20   \n",
       "13600      adhd          bruh21111  2020/04/20   \n",
       "13601      adhd  RegularHeroForFun  2020/04/20   \n",
       "\n",
       "                                                    post  substance_use_total  \\\n",
       "0      How much further ahead could I have been by no...                    3   \n",
       "1      ADHD &amp; Bipolar Anyone else have Bipolar Di...                    0   \n",
       "2      My relationship is falling apart and I don’t k...                    0   \n",
       "3      To those struggling to write papers- drink cof...                    2   \n",
       "4      Meds didn't cure chronic laziness But I can fo...                    1   \n",
       "...                                                  ...                  ...   \n",
       "13597  I HAVE BEEN TRYING TO GET MY PRESCRIPTION FILL...                    0   \n",
       "13598  Reminders System Thats Helped Me Actually Be P...                    3   \n",
       "13599  Pharmacists ruder than usual? I went to the ph...                    0   \n",
       "13600  Help,..... . \\n\\nI know this is against guidel...                    0   \n",
       "13601  What has helped you focus all day on studying ...                    0   \n",
       "\n",
       "      period  \n",
       "0        pre  \n",
       "1        pre  \n",
       "2        pre  \n",
       "3        pre  \n",
       "4        pre  \n",
       "...      ...  \n",
       "13597   post  \n",
       "13598   post  \n",
       "13599   post  \n",
       "13600   post  \n",
       "13601   post  \n",
       "\n",
       "[30298 rows x 6 columns]"
      ],
      "text/html": [
       "<div>\n",
       "<style scoped>\n",
       "    .dataframe tbody tr th:only-of-type {\n",
       "        vertical-align: middle;\n",
       "    }\n",
       "\n",
       "    .dataframe tbody tr th {\n",
       "        vertical-align: top;\n",
       "    }\n",
       "\n",
       "    .dataframe thead th {\n",
       "        text-align: right;\n",
       "    }\n",
       "</style>\n",
       "<table border=\"1\" class=\"dataframe\">\n",
       "  <thead>\n",
       "    <tr style=\"text-align: right;\">\n",
       "      <th></th>\n",
       "      <th>subreddit</th>\n",
       "      <th>author</th>\n",
       "      <th>date</th>\n",
       "      <th>post</th>\n",
       "      <th>substance_use_total</th>\n",
       "      <th>period</th>\n",
       "    </tr>\n",
       "  </thead>\n",
       "  <tbody>\n",
       "    <tr>\n",
       "      <th>0</th>\n",
       "      <td>adhd</td>\n",
       "      <td>S-Kay21</td>\n",
       "      <td>2019/01/18</td>\n",
       "      <td>How much further ahead could I have been by no...</td>\n",
       "      <td>3</td>\n",
       "      <td>pre</td>\n",
       "    </tr>\n",
       "    <tr>\n",
       "      <th>1</th>\n",
       "      <td>adhd</td>\n",
       "      <td>lismox42</td>\n",
       "      <td>2019/01/18</td>\n",
       "      <td>ADHD &amp;amp; Bipolar Anyone else have Bipolar Di...</td>\n",
       "      <td>0</td>\n",
       "      <td>pre</td>\n",
       "    </tr>\n",
       "    <tr>\n",
       "      <th>2</th>\n",
       "      <td>adhd</td>\n",
       "      <td>reddit_noob_1234</td>\n",
       "      <td>2019/01/18</td>\n",
       "      <td>My relationship is falling apart and I don’t k...</td>\n",
       "      <td>0</td>\n",
       "      <td>pre</td>\n",
       "    </tr>\n",
       "    <tr>\n",
       "      <th>3</th>\n",
       "      <td>adhd</td>\n",
       "      <td>JITTERdUdE</td>\n",
       "      <td>2019/01/18</td>\n",
       "      <td>To those struggling to write papers- drink cof...</td>\n",
       "      <td>2</td>\n",
       "      <td>pre</td>\n",
       "    </tr>\n",
       "    <tr>\n",
       "      <th>4</th>\n",
       "      <td>adhd</td>\n",
       "      <td>buddingaddiction</td>\n",
       "      <td>2019/01/18</td>\n",
       "      <td>Meds didn't cure chronic laziness But I can fo...</td>\n",
       "      <td>1</td>\n",
       "      <td>pre</td>\n",
       "    </tr>\n",
       "    <tr>\n",
       "      <th>...</th>\n",
       "      <td>...</td>\n",
       "      <td>...</td>\n",
       "      <td>...</td>\n",
       "      <td>...</td>\n",
       "      <td>...</td>\n",
       "      <td>...</td>\n",
       "    </tr>\n",
       "    <tr>\n",
       "      <th>13597</th>\n",
       "      <td>adhd</td>\n",
       "      <td>yoitsupperlefty</td>\n",
       "      <td>2020/04/20</td>\n",
       "      <td>I HAVE BEEN TRYING TO GET MY PRESCRIPTION FILL...</td>\n",
       "      <td>0</td>\n",
       "      <td>post</td>\n",
       "    </tr>\n",
       "    <tr>\n",
       "      <th>13598</th>\n",
       "      <td>adhd</td>\n",
       "      <td>chaoslord13</td>\n",
       "      <td>2020/04/20</td>\n",
       "      <td>Reminders System Thats Helped Me Actually Be P...</td>\n",
       "      <td>3</td>\n",
       "      <td>post</td>\n",
       "    </tr>\n",
       "    <tr>\n",
       "      <th>13599</th>\n",
       "      <td>adhd</td>\n",
       "      <td>Adhelpmeee</td>\n",
       "      <td>2020/04/20</td>\n",
       "      <td>Pharmacists ruder than usual? I went to the ph...</td>\n",
       "      <td>0</td>\n",
       "      <td>post</td>\n",
       "    </tr>\n",
       "    <tr>\n",
       "      <th>13600</th>\n",
       "      <td>adhd</td>\n",
       "      <td>bruh21111</td>\n",
       "      <td>2020/04/20</td>\n",
       "      <td>Help,..... . \\n\\nI know this is against guidel...</td>\n",
       "      <td>0</td>\n",
       "      <td>post</td>\n",
       "    </tr>\n",
       "    <tr>\n",
       "      <th>13601</th>\n",
       "      <td>adhd</td>\n",
       "      <td>RegularHeroForFun</td>\n",
       "      <td>2020/04/20</td>\n",
       "      <td>What has helped you focus all day on studying ...</td>\n",
       "      <td>0</td>\n",
       "      <td>post</td>\n",
       "    </tr>\n",
       "  </tbody>\n",
       "</table>\n",
       "<p>30298 rows × 6 columns</p>\n",
       "</div>"
      ]
     },
     "metadata": {},
     "execution_count": 12
    }
   ],
   "metadata": {}
  },
  {
   "cell_type": "code",
   "execution_count": 13,
   "source": [
    "alt.Chart(adhd_df).mark_bar(opacity=0.8).encode(\n",
    "    x=alt.X('substance_use_total', bin=alt.Bin(maxbins=30)),\n",
    "    y='count()',\n",
    "    color='period'\n",
    ")"
   ],
   "outputs": [
    {
     "output_type": "execute_result",
     "data": {
      "text/plain": [
       "<VegaLite 4 object>\n",
       "\n",
       "If you see this message, it means the renderer has not been properly enabled\n",
       "for the frontend that you are using. For more information, see\n",
       "https://altair-viz.github.io/user_guide/troubleshooting.html\n"
      ],
      "application/vnd.vegalite.v4+json": {
       "config": {
        "view": {
         "continuousWidth": 400,
         "continuousHeight": 300
        }
       },
       "data": {
        "url": "http://localhost:21853/f082383a823d44062bbcbd324f4d3a8a.json"
       },
       "mark": {
        "type": "bar",
        "opacity": 0.8
       },
       "encoding": {
        "color": {
         "type": "nominal",
         "field": "period"
        },
        "x": {
         "type": "quantitative",
         "bin": {
          "maxbins": 30
         },
         "field": "substance_use_total"
        },
        "y": {
         "type": "quantitative",
         "aggregate": "count"
        }
       },
       "$schema": "https://vega.github.io/schema/vega-lite/v4.8.1.json"
      }
     },
     "metadata": {},
     "execution_count": 13
    }
   ],
   "metadata": {}
  },
  {
   "cell_type": "code",
   "execution_count": 15,
   "source": [
    "plot = alt.Chart(adhd_df).mark_bar().encode(\n",
    "    x='mean(substance_use_total)',\n",
    "    y='period',\n",
    "    color='period'\n",
    ")\n",
    "\n",
    "err_bars = alt.Chart(adhd_df).mark_errorbar(extent='ci', rule=alt.LineConfig(size=2)).encode(\n",
    "    x='substance_use_total',\n",
    "    y='period')\n",
    "\n",
    "plot + err_bars"
   ],
   "outputs": [
    {
     "output_type": "execute_result",
     "data": {
      "text/plain": [
       "<VegaLite 4 object>\n",
       "\n",
       "If you see this message, it means the renderer has not been properly enabled\n",
       "for the frontend that you are using. For more information, see\n",
       "https://altair-viz.github.io/user_guide/troubleshooting.html\n"
      ],
      "application/vnd.vegalite.v4+json": {
       "config": {
        "view": {
         "continuousWidth": 400,
         "continuousHeight": 300
        }
       },
       "layer": [
        {
         "mark": "bar",
         "encoding": {
          "color": {
           "type": "nominal",
           "field": "period"
          },
          "x": {
           "type": "quantitative",
           "aggregate": "mean",
           "field": "substance_use_total"
          },
          "y": {
           "type": "nominal",
           "field": "period"
          }
         }
        },
        {
         "mark": {
          "type": "errorbar",
          "extent": "ci",
          "rule": {
           "size": 2
          }
         },
         "encoding": {
          "x": {
           "type": "quantitative",
           "field": "substance_use_total"
          },
          "y": {
           "type": "nominal",
           "field": "period"
          }
         }
        }
       ],
       "data": {
        "url": "http://localhost:21853/f082383a823d44062bbcbd324f4d3a8a.json"
       },
       "$schema": "https://vega.github.io/schema/vega-lite/v4.8.1.json"
      }
     },
     "metadata": {},
     "execution_count": 15
    }
   ],
   "metadata": {}
  },
  {
   "cell_type": "code",
   "execution_count": 16,
   "source": [
    "print(f\"Number of unique authors (posters) in 'pre' dataset: {len(adhd_pre.author.unique())}\")\n",
    "print(f\"Number of unique authors (posters) in 'post' dataset: {len(adhd_post.author.unique())}\")"
   ],
   "outputs": [
    {
     "output_type": "stream",
     "name": "stdout",
     "text": [
      "Number of unique authors (posters) in 'pre' dataset: 16696\n",
      "Number of unique authors (posters) in 'post' dataset: 13602\n"
     ]
    }
   ],
   "metadata": {}
  },
  {
   "cell_type": "markdown",
   "source": [
    "We have a roughly balanced data set of users posting before and after the pandemic.   \n",
    "We see that the mean of `substance_use_total` was greater before the pandemic rather than after."
   ],
   "metadata": {}
  }
 ],
 "metadata": {
  "orig_nbformat": 4,
  "language_info": {
   "name": "python",
   "version": "3.9.7",
   "mimetype": "text/x-python",
   "codemirror_mode": {
    "name": "ipython",
    "version": 3
   },
   "pygments_lexer": "ipython3",
   "nbconvert_exporter": "python",
   "file_extension": ".py"
  },
  "kernelspec": {
   "name": "python3",
   "display_name": "Python 3.9.7 64-bit ('571': conda)"
  },
  "interpreter": {
   "hash": "cd73219ee6ea67d39567d6d327e94e201d66a6416c851a78ebf44b4b8c961a83"
  }
 },
 "nbformat": 4,
 "nbformat_minor": 2
}